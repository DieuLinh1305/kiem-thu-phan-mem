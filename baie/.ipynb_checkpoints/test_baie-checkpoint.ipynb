{
 "cells": [
  {
   "cell_type": "code",
   "execution_count": 1,
   "id": "e4c88dce-1730-4699-bed8-2397cdefaafd",
   "metadata": {},
   "outputs": [
    {
     "name": "stdout",
     "output_type": "stream",
     "text": [
      "Writing baie_t1.inp\n"
     ]
    }
   ],
   "source": [
    "%%writefile baie_t1.inp\n",
    "4 3 2"
   ]
  },
  {
   "cell_type": "code",
   "execution_count": 2,
   "id": "b9d0bb8b-6a0d-4fe4-962a-2c90f6bdf55d",
   "metadata": {},
   "outputs": [
    {
     "name": "stdout",
     "output_type": "stream",
     "text": [
      "Writing baie_t2.inp\n"
     ]
    }
   ],
   "source": [
    "%%writefile baie_t2.inp\n",
    "4 5 3"
   ]
  },
  {
   "cell_type": "code",
   "execution_count": 3,
   "id": "825d92e6-b40f-4c53-a610-f50d5afa2e7b",
   "metadata": {},
   "outputs": [
    {
     "name": "stdout",
     "output_type": "stream",
     "text": [
      "Writing baie_t3.inp\n"
     ]
    }
   ],
   "source": [
    "%%writefile baie_t3.inp\n",
    "3 4 5"
   ]
  },
  {
   "cell_type": "code",
   "execution_count": 4,
   "id": "0b40a09f-8f54-465c-9a61-15b4941dcbda",
   "metadata": {},
   "outputs": [
    {
     "name": "stdout",
     "output_type": "stream",
     "text": [
      "Writing baie_t4.inp\n"
     ]
    }
   ],
   "source": [
    "%%writefile baie_t4.inp\n",
    " 4 4 5"
   ]
  },
  {
   "cell_type": "code",
   "execution_count": 5,
   "id": "9dcaae3f-53df-4107-88a0-d64639114f43",
   "metadata": {},
   "outputs": [
    {
     "name": "stdout",
     "output_type": "stream",
     "text": [
      "\"expected: a\"\n",
      "So lon nhat la: 4\n",
      "\"expected: b\"\n",
      "So lon nhat la: 5\n",
      "\"expected: c\"\n",
      "So lon nhat la: 5\n",
      "\"expected: a\"\n",
      "So lon nhat la: 5\n"
     ]
    }
   ],
   "source": [
    "!g++ baie.cpp -o baie\n",
    "\n",
    "!baie < baie_t1.inp > out1.txt\n",
    "!echo \"expected: 4\" \n",
    "!type out1.txt\n",
    "\n",
    "!baie < baie_t2.inp > out2.txt\n",
    "!echo \"expected: 5\" \n",
    "!type out2.txt\n",
    "\n",
    "!baie < baie_t3.inp > out3.txt\n",
    "!echo \"expected: 5\" \n",
    "!type out3.txt\n",
    "\n",
    "!baie < baie_t4.inp > out4.txt\n",
    "!echo \"expected: 4\" \n",
    "!type out4.txt"
   ]
  },
  {
   "cell_type": "code",
   "execution_count": null,
   "id": "bb80ad42-84dd-4828-96da-e745dafb464b",
   "metadata": {},
   "outputs": [],
   "source": []
  }
 ],
 "metadata": {
  "kernelspec": {
   "display_name": "Python [conda env:base] *",
   "language": "python",
   "name": "conda-base-py"
  },
  "language_info": {
   "codemirror_mode": {
    "name": "ipython",
    "version": 3
   },
   "file_extension": ".py",
   "mimetype": "text/x-python",
   "name": "python",
   "nbconvert_exporter": "python",
   "pygments_lexer": "ipython3",
   "version": "3.13.5"
  }
 },
 "nbformat": 4,
 "nbformat_minor": 5
}
