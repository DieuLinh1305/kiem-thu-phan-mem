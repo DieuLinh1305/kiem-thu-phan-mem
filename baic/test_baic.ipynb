{
 "cells": [
  {
   "cell_type": "code",
   "execution_count": 1,
   "id": "9e199f34-9a2d-40c1-9440-095b61cfdba8",
   "metadata": {},
   "outputs": [
    {
     "name": "stdout",
     "output_type": "stream",
     "text": [
      "Writing baic_t1.inp\n"
     ]
    }
   ],
   "source": [
    "%%writefile baic_t1.inp\n",
    "9"
   ]
  },
  {
   "cell_type": "code",
   "execution_count": 2,
   "id": "ae0a13b2-ff42-47b7-ab11-c434f58c64d3",
   "metadata": {},
   "outputs": [
    {
     "name": "stdout",
     "output_type": "stream",
     "text": [
      "Writing baic_t2.inp\n"
     ]
    }
   ],
   "source": [
    "%%writefile baic_t2.inp\n",
    "12"
   ]
  },
  {
   "cell_type": "code",
   "execution_count": 3,
   "id": "d7b44f38-e503-4fbd-a6ae-36692a63fd65",
   "metadata": {},
   "outputs": [
    {
     "name": "stdout",
     "output_type": "stream",
     "text": [
      "\"expected: 18\"\n",
      " f2(9) = 18\n",
      "\"expected: 24\"\n",
      " f2(12) = 24\n"
     ]
    }
   ],
   "source": [
    "!g++ baic.cpp -o baic\n",
    "\n",
    "!baic < baic_t1.inp > out1.txt\n",
    "!echo \"expected: 18\" \n",
    "!type out1.txt\n",
    "\n",
    "!baic < baic_t2.inp > out2.txt\n",
    "!echo \"expected: 24\" \n",
    "!type out2.txt\n"
   ]
  },
  {
   "cell_type": "code",
   "execution_count": null,
   "id": "cfcf9167-6834-48eb-a248-a7c9603a8cf0",
   "metadata": {},
   "outputs": [],
   "source": []
  }
 ],
 "metadata": {
  "kernelspec": {
   "display_name": "Python [conda env:base] *",
   "language": "python",
   "name": "conda-base-py"
  },
  "language_info": {
   "codemirror_mode": {
    "name": "ipython",
    "version": 3
   },
   "file_extension": ".py",
   "mimetype": "text/x-python",
   "name": "python",
   "nbconvert_exporter": "python",
   "pygments_lexer": "ipython3",
   "version": "3.13.5"
  }
 },
 "nbformat": 4,
 "nbformat_minor": 5
}
