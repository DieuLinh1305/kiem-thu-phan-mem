{
 "cells": [
  {
   "cell_type": "code",
   "execution_count": 1,
   "id": "cfdfb9cd-13e4-4e85-b700-156c47070302",
   "metadata": {},
   "outputs": [
    {
     "name": "stdout",
     "output_type": "stream",
     "text": [
      "Writing baib_t1.inp\n"
     ]
    }
   ],
   "source": [
    "%%writefile baib_t1.inp\n",
    "11"
   ]
  },
  {
   "cell_type": "code",
   "execution_count": 5,
   "id": "cce596a2-d618-492e-ac0e-74f2315614b1",
   "metadata": {},
   "outputs": [
    {
     "name": "stdout",
     "output_type": "stream",
     "text": [
      "Overwriting baib_t2.inp\n"
     ]
    }
   ],
   "source": [
    "%%writefile baib_t2.inp\n",
    "5"
   ]
  },
  {
   "cell_type": "code",
   "execution_count": 6,
   "id": "a7907ee3-c98b-4cc3-a0ba-08e785397855",
   "metadata": {},
   "outputs": [
    {
     "name": "stdout",
     "output_type": "stream",
     "text": [
      "Writing baib_t3.inp\n"
     ]
    }
   ],
   "source": [
    "%%writefile baib_t3.inp\n",
    "-13"
   ]
  },
  {
   "cell_type": "code",
   "execution_count": 7,
   "id": "a5d4cb2d-136d-4942-b130-69c1e273455c",
   "metadata": {},
   "outputs": [
    {
     "name": "stdout",
     "output_type": "stream",
     "text": [
      "\"expected: 22\"\n",
      "22\n",
      "\"expected: -5\"\n",
      "-5\n",
      "\"expected: -26\"\n",
      "-26\n"
     ]
    }
   ],
   "source": [
    "!g++ baib.cpp -o baib\n",
    "\n",
    "!baib < baib_t1.inp > out1.txt\n",
    "!echo \"expected: 22\" \n",
    "!type out1.txt\n",
    "\n",
    "!baib < baib_t2.inp > out2.txt\n",
    "!echo \"expected: -5\" \n",
    "!type out2.txt\n",
    "\n",
    "!baib < baib_t3.inp > out3.txt\n",
    "!echo \"expected: -26\" \n",
    "!type out3.txt\n"
   ]
  },
  {
   "cell_type": "code",
   "execution_count": null,
   "id": "620f0e28-7436-4656-9ae3-a2be6653db7f",
   "metadata": {},
   "outputs": [],
   "source": []
  }
 ],
 "metadata": {
  "kernelspec": {
   "display_name": "Python [conda env:base] *",
   "language": "python",
   "name": "conda-base-py"
  },
  "language_info": {
   "codemirror_mode": {
    "name": "ipython",
    "version": 3
   },
   "file_extension": ".py",
   "mimetype": "text/x-python",
   "name": "python",
   "nbconvert_exporter": "python",
   "pygments_lexer": "ipython3",
   "version": "3.13.5"
  }
 },
 "nbformat": 4,
 "nbformat_minor": 5
}
