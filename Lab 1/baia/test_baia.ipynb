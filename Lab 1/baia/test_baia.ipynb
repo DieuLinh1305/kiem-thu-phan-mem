{
 "cells": [
  {
   "cell_type": "code",
   "execution_count": 1,
   "id": "6ee67fb9-3e5e-4f81-86cb-3db59e58c8da",
   "metadata": {},
   "outputs": [
    {
     "name": "stdout",
     "output_type": "stream",
     "text": [
      "Writing baia_t1.inp\n"
     ]
    }
   ],
   "source": [
    "%%writefile baia_t1.inp\n",
    "11"
   ]
  },
  {
   "cell_type": "code",
   "execution_count": 2,
   "id": "0291b91e-4da3-42ee-aeda-335fa9d3b3da",
   "metadata": {},
   "outputs": [
    {
     "name": "stdout",
     "output_type": "stream",
     "text": [
      "Writing baia_t2.inp\n"
     ]
    }
   ],
   "source": [
    "%%writefile baia_t2.inp\n",
    "5"
   ]
  },
  {
   "cell_type": "code",
   "execution_count": 9,
   "id": "07fe7800-b1d4-4f32-babc-74062cbbd090",
   "metadata": {},
   "outputs": [
    {
     "name": "stdout",
     "output_type": "stream",
     "text": [
      "\"expected: 22\"\n",
      "22\n",
      "\"expected: -5\"\n",
      "-5\n"
     ]
    }
   ],
   "source": [
    "!g++ baia.cpp -o baia\n",
    "\n",
    "!baia < baia_t1.inp > out1.txt\n",
    "!echo \"expected: 22\" \n",
    "!type out1.txt\n",
    "\n",
    "!baia < baia_t2.inp > out2.txt\n",
    "!echo \"expected: -5\" \n",
    "!type out2.txt\n"
   ]
  },
  {
   "cell_type": "code",
   "execution_count": null,
   "id": "82c1e849-fbfe-47d9-85cc-a25838dc3c78",
   "metadata": {},
   "outputs": [],
   "source": []
  }
 ],
 "metadata": {
  "kernelspec": {
   "display_name": "Python [conda env:base] *",
   "language": "python",
   "name": "conda-base-py"
  },
  "language_info": {
   "codemirror_mode": {
    "name": "ipython",
    "version": 3
   },
   "file_extension": ".py",
   "mimetype": "text/x-python",
   "name": "python",
   "nbconvert_exporter": "python",
   "pygments_lexer": "ipython3",
   "version": "3.13.5"
  }
 },
 "nbformat": 4,
 "nbformat_minor": 5
}
