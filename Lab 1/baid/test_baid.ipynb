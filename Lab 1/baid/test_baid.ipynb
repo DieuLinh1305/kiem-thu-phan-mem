{
 "cells": [
  {
   "cell_type": "code",
   "execution_count": 1,
   "id": "f56ebe44-ea3e-44d5-9f37-a6b9f63a5f66",
   "metadata": {},
   "outputs": [
    {
     "name": "stdout",
     "output_type": "stream",
     "text": [
      "Writing baid_t1.inp\n"
     ]
    }
   ],
   "source": [
    "%%writefile baid_t1.inp\n",
    "2"
   ]
  },
  {
   "cell_type": "code",
   "execution_count": 2,
   "id": "1012e6ef-c044-4122-913a-e0ab57525f19",
   "metadata": {},
   "outputs": [
    {
     "name": "stdout",
     "output_type": "stream",
     "text": [
      "\"expected: 4\"\n",
      "f3(2) = 4\n"
     ]
    }
   ],
   "source": [
    "!g++ baid.cpp -o baid\n",
    "\n",
    "!baid < baid_t1.inp > out1.txt\n",
    "!echo \"expected: 4\" \n",
    "!type out1.txt"
   ]
  },
  {
   "cell_type": "code",
   "execution_count": null,
   "id": "ead833f5-3f3f-473a-8c9d-27e3bdd99202",
   "metadata": {},
   "outputs": [],
   "source": []
  }
 ],
 "metadata": {
  "kernelspec": {
   "display_name": "Python [conda env:base] *",
   "language": "python",
   "name": "conda-base-py"
  },
  "language_info": {
   "codemirror_mode": {
    "name": "ipython",
    "version": 3
   },
   "file_extension": ".py",
   "mimetype": "text/x-python",
   "name": "python",
   "nbconvert_exporter": "python",
   "pygments_lexer": "ipython3",
   "version": "3.13.5"
  }
 },
 "nbformat": 4,
 "nbformat_minor": 5
}
