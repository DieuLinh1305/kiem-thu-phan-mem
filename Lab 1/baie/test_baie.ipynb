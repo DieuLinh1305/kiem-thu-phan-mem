{
 "cells": [
  {
   "cell_type": "code",
   "execution_count": 11,
   "id": "e4c88dce-1730-4699-bed8-2397cdefaafd",
   "metadata": {},
   "outputs": [
    {
     "name": "stdout",
     "output_type": "stream",
     "text": [
      "Overwriting baie_t1.inp\n"
     ]
    }
   ],
   "source": [
    "%%writefile baie_t1.inp\n",
    "4 3 2"
   ]
  },
  {
   "cell_type": "code",
   "execution_count": 2,
   "id": "b9d0bb8b-6a0d-4fe4-962a-2c90f6bdf55d",
   "metadata": {},
   "outputs": [
    {
     "name": "stdout",
     "output_type": "stream",
     "text": [
      "Writing baie_t2.inp\n"
     ]
    }
   ],
   "source": [
    "%%writefile baie_t2.inp\n",
    "4 5 3"
   ]
  },
  {
   "cell_type": "code",
   "execution_count": 3,
   "id": "825d92e6-b40f-4c53-a610-f50d5afa2e7b",
   "metadata": {},
   "outputs": [
    {
     "name": "stdout",
     "output_type": "stream",
     "text": [
      "Writing baie_t3.inp\n"
     ]
    }
   ],
   "source": [
    "%%writefile baie_t3.inp\n",
    "3 4 5"
   ]
  },
  {
   "cell_type": "code",
   "execution_count": 7,
   "id": "0b40a09f-8f54-465c-9a61-15b4941dcbda",
   "metadata": {},
   "outputs": [
    {
     "name": "stdout",
     "output_type": "stream",
     "text": [
      "Overwriting baie_t4.inp\n"
     ]
    }
   ],
   "source": [
    "%%writefile baie_t4.inp\n",
    " 4 4 5"
   ]
  },
  {
   "cell_type": "code",
   "execution_count": 12,
   "id": "9dcaae3f-53df-4107-88a0-d64639114f43",
   "metadata": {},
   "outputs": [
    {
     "name": "stdout",
     "output_type": "stream",
     "text": [
      "\"expected: 4\"\n",
      "So lon nhat la: 4\n",
      "\"expected: 5\"\n",
      "So lon nhat la: 5\n",
      "\"expected: 5\"\n",
      "So lon nhat la: 5\n",
      "\"expected: 5\"\n",
      "So lon nhat la: 5\n",
      "\"expected: 4\"\n",
      "So lon nhat la: 0\n"
     ]
    },
    {
     "name": "stderr",
     "output_type": "stream",
     "text": [
      "The system cannot find the file specified.\n"
     ]
    },
    {
     "name": "stdout",
     "output_type": "stream",
     "text": [
      "\"expected: 5\"\n"
     ]
    },
    {
     "name": "stderr",
     "output_type": "stream",
     "text": [
      "The system cannot find the file specified.\n"
     ]
    }
   ],
   "source": [
    "!g++ baie.cpp -o baie\n",
    "\n",
    "!baie < baie_t1.inp > out1.txt\n",
    "!echo \"expected: 4\" \n",
    "!type out1.txt\n",
    "\n",
    "!baie < baie_t2.inp > out2.txt\n",
    "!echo \"expected: 5\" \n",
    "!type out2.txt\n",
    "\n",
    "!baie < baie_t3.inp > out3.txt\n",
    "!echo \"expected: 5\" \n",
    "!type out3.txt\n",
    "\n",
    "!baie < baie_t4.inp > out4.txt\n",
    "!echo \"expected: 5\" \n",
    "!type out4.txt\n",
    "\n",
    "!baie < baie_t5.inp > out5.txt\n",
    "!echo \"expected: 4\" \n",
    "!type out5.txt\n",
    "\n",
    "!baie < baie_t6.inp > out6.txt\n",
    "!echo \"expected: 5\" \n",
    "!type out6.txt"
   ]
  },
  {
   "cell_type": "code",
   "execution_count": 9,
   "id": "bb80ad42-84dd-4828-96da-e745dafb464b",
   "metadata": {},
   "outputs": [
    {
     "name": "stdout",
     "output_type": "stream",
     "text": [
      "Writing baie_t5.inp\n"
     ]
    }
   ],
   "source": [
    "%%writefile baie_t5.inp\n",
    " 5 5 4"
   ]
  },
  {
   "cell_type": "code",
   "execution_count": null,
   "id": "d40000cf-e437-4d4d-bf5e-2ba6b784ebc1",
   "metadata": {},
   "outputs": [],
   "source": [
    "%%writefile baie_t6.inp\n",
    " 5 5 5"
   ]
  }
 ],
 "metadata": {
  "kernelspec": {
   "display_name": "Python [conda env:base] *",
   "language": "python",
   "name": "conda-base-py"
  },
  "language_info": {
   "codemirror_mode": {
    "name": "ipython",
    "version": 3
   },
   "file_extension": ".py",
   "mimetype": "text/x-python",
   "name": "python",
   "nbconvert_exporter": "python",
   "pygments_lexer": "ipython3",
   "version": "3.13.5"
  }
 },
 "nbformat": 4,
 "nbformat_minor": 5
}
