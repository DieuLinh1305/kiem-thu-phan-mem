{
 "cells": [
  {
   "cell_type": "code",
   "execution_count": 1,
   "id": "ea1682b4-00a4-4b47-8360-8ebc39d72116",
   "metadata": {},
   "outputs": [
    {
     "name": "stdout",
     "output_type": "stream",
     "text": [
      "Writing bai3_t1.inp\n"
     ]
    }
   ],
   "source": [
    "%%writefile bai3_t1.inp\n",
    "0 0 0"
   ]
  },
  {
   "cell_type": "code",
   "execution_count": 12,
   "id": "490e486f-f439-4eca-badc-dabda427f894",
   "metadata": {},
   "outputs": [
    {
     "name": "stdout",
     "output_type": "stream",
     "text": [
      "Writing bai3_t2.inp\n"
     ]
    }
   ],
   "source": [
    "%%writefile bai3_t2.inp\n",
    "0 0 5"
   ]
  },
  {
   "cell_type": "code",
   "execution_count": 13,
   "id": "99d18fad-173f-480c-b1ba-245617298862",
   "metadata": {},
   "outputs": [
    {
     "name": "stdout",
     "output_type": "stream",
     "text": [
      "Writing bai3_t3.inp\n"
     ]
    }
   ],
   "source": [
    "%%writefile bai3_t3.inp\n",
    "0 2 3"
   ]
  },
  {
   "cell_type": "code",
   "execution_count": 14,
   "id": "4606d0e4-1035-4f3b-a151-c4c3f081e2a9",
   "metadata": {},
   "outputs": [
    {
     "name": "stdout",
     "output_type": "stream",
     "text": [
      "Writing bai3_t4.inp\n"
     ]
    }
   ],
   "source": [
    "%%writefile bai3_t4.inp\n",
    "0 2 -8"
   ]
  },
  {
   "cell_type": "code",
   "execution_count": 15,
   "id": "c93c002a-34ec-405e-b963-a1a33d2e929f",
   "metadata": {},
   "outputs": [
    {
     "name": "stdout",
     "output_type": "stream",
     "text": [
      "Writing bai3_t5.inp\n"
     ]
    }
   ],
   "source": [
    "%%writefile bai3_t5.inp\n",
    "1 0 1"
   ]
  },
  {
   "cell_type": "code",
   "execution_count": 16,
   "id": "b1ef07df-3346-4147-9ff7-337986c4097b",
   "metadata": {},
   "outputs": [
    {
     "name": "stdout",
     "output_type": "stream",
     "text": [
      "Writing bai3_t6.inp\n"
     ]
    }
   ],
   "source": [
    "%%writefile bai3_t6.inp\n",
    "1 0 -1"
   ]
  },
  {
   "cell_type": "code",
   "execution_count": 17,
   "id": "33477156-29d0-4bdb-b2df-db319d96ca03",
   "metadata": {},
   "outputs": [
    {
     "name": "stdout",
     "output_type": "stream",
     "text": [
      "Writing bai3_t7.inp\n"
     ]
    }
   ],
   "source": [
    "%%writefile bai3_t7.inp\n",
    "1 -5 4"
   ]
  },
  {
   "cell_type": "code",
   "execution_count": 18,
   "id": "e31e1363-df77-4109-b769-79a008f3c4c9",
   "metadata": {},
   "outputs": [
    {
     "name": "stdout",
     "output_type": "stream",
     "text": [
      "Writing bai3_t8.inp\n"
     ]
    }
   ],
   "source": [
    "%%writefile bai3_t8.inp\n",
    "1 -2 1"
   ]
  },
  {
   "cell_type": "code",
   "execution_count": 22,
   "id": "6818867c-3d7b-442c-9de1-0059c9d605c0",
   "metadata": {},
   "outputs": [
    {
     "name": "stdout",
     "output_type": "stream",
     "text": [
      "\"expected: Infinite solutions.\"\n",
      " The equation has 2 real solution(s): 1 -1 \n",
      "\"expected: No solution.\"\n",
      "No solution.\n",
      "\"expected: No solution (y = -c/b = -1.5 < 0).\"\n",
      "No solution.\n",
      "\"expected: 2 solutions: 2 -2\"\n",
      " The equation has 2 real solution(s): 2 -2 \n",
      "\"expected: No solution (x4 + 1 = 0 không có nghi?m th?c).\"\n",
      "No solution.\n",
      "\"expected: 2 solutions: 1 -1\"\n",
      " The equation has 2 real solution(s): 1 -1 \n",
      "\"expected: 4 solutions: 2 -2 1 -1\"\n",
      " The equation has 4 real solution(s): 2 -2 1 -1 \n",
      "\"expected: 2 solutions: 1 -1 (nghi?m kép y=1).\"\n",
      " The equation has 2 real solution(s): 1 -1 \n"
     ]
    }
   ],
   "source": [
    "!g++ bai3.cpp -o bai3\n",
    "\n",
    "!bai3 < bai3_t1.inp > out1.txt\n",
    "!echo \"expected: Infinite solutions.\" \n",
    "!type out1.txt\n",
    "\n",
    "!bai3 < bai3_t2.inp > out2.txt\n",
    "!echo \"expected: No solution.\" \n",
    "!type out2.txt\n",
    "\n",
    "!bai3 < bai3_t3.inp > out3.txt\n",
    "!echo \"expected: No solution (y = -c/b = -1.5 < 0).\" \n",
    "!type out3.txt\n",
    "\n",
    "!bai3 < bai3_t4.inp > out4.txt\n",
    "!echo \"expected: 2 solutions: 2 -2\" \n",
    "!type out4.txt\n",
    "\n",
    "!bai3 < bai3_t5.inp > out5.txt\n",
    "!echo \"expected: No solution (x⁴ + 1 = 0 không có nghiệm thực).\" \n",
    "!type out5.txt\n",
    "\n",
    "!bai3 < bai3_t6.inp > out6.txt\n",
    "!echo \"expected: 2 solutions: 1 -1\" \n",
    "!type out6.txt\n",
    "\n",
    "!bai3 < bai3_t7.inp > out7.txt\n",
    "!echo \"expected: 4 solutions: 2 -2 1 -1\" \n",
    "!type out7.txt\n",
    "\n",
    "!bai3 < bai3_t8.inp > out8.txt\n",
    "!echo \"expected: 2 solutions: 1 -1 (nghiệm kép y=1).\" \n",
    "!type out8.txt"
   ]
  },
  {
   "cell_type": "code",
   "execution_count": null,
   "id": "a799100c-9826-4321-a000-584ab8a29bdb",
   "metadata": {},
   "outputs": [],
   "source": []
  }
 ],
 "metadata": {
  "kernelspec": {
   "display_name": "Python [conda env:base] *",
   "language": "python",
   "name": "conda-base-py"
  },
  "language_info": {
   "codemirror_mode": {
    "name": "ipython",
    "version": 3
   },
   "file_extension": ".py",
   "mimetype": "text/x-python",
   "name": "python",
   "nbconvert_exporter": "python",
   "pygments_lexer": "ipython3",
   "version": "3.13.5"
  }
 },
 "nbformat": 4,
 "nbformat_minor": 5
}
